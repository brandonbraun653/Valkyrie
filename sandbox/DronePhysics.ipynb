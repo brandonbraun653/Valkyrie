{
 "cells": [
  {
   "cell_type": "code",
   "execution_count": 103,
   "metadata": {},
   "outputs": [],
   "source": [
    "import numpy\n",
    "from sympy import *\n",
    "\n",
    "\n"
   ]
  },
  {
   "cell_type": "markdown",
   "metadata": {},
   "source": [
    "# System Equations"
   ]
  },
  {
   "cell_type": "markdown",
   "metadata": {},
   "source": [
    "## Declare System Variables"
   ]
  },
  {
   "cell_type": "code",
   "execution_count": 104,
   "metadata": {},
   "outputs": [],
   "source": [
    "\n",
    "# Body angle\n",
    "phi, theta, psi = symbols('phi theta psi')\n",
    "\n",
    "# Rotation rates in body frame\n",
    "dPhi, dTheta, dPsi = symbols('dPhi, dTheta, dPsi')\n",
    "\n",
    "# Linear velocity in inertial frame\n",
    "p, q, r = symbols('p q r')\n"
   ]
  },
  {
   "cell_type": "markdown",
   "metadata": {},
   "source": [
    "## Derive Newton-Euler Equations"
   ]
  },
  {
   "cell_type": "markdown",
   "metadata": {},
   "source": [
    "### Rotation Matrix from Body Frame to Inertial Frame"
   ]
  },
  {
   "cell_type": "code",
   "execution_count": 105,
   "metadata": {},
   "outputs": [
    {
     "data": {
      "text/latex": "$\\displaystyle \\left[\\begin{matrix}\\cos{\\left(\\psi \\right)} \\cos{\\left(\\theta \\right)} & \\sin{\\left(\\phi \\right)} \\sin{\\left(\\theta \\right)} \\cos{\\left(\\psi \\right)} - \\sin{\\left(\\psi \\right)} \\cos{\\left(\\phi \\right)} & \\sin{\\left(\\phi \\right)} \\sin{\\left(\\psi \\right)} + \\sin{\\left(\\theta \\right)} \\cos{\\left(\\phi \\right)} \\cos{\\left(\\psi \\right)}\\\\\\sin{\\left(\\psi \\right)} \\cos{\\left(\\theta \\right)} & \\sin{\\left(\\phi \\right)} \\sin{\\left(\\psi \\right)} \\sin{\\left(\\theta \\right)} + \\cos{\\left(\\phi \\right)} \\cos{\\left(\\psi \\right)} & - \\sin{\\left(\\phi \\right)} \\cos{\\left(\\psi \\right)} + \\sin{\\left(\\psi \\right)} \\sin{\\left(\\theta \\right)} \\cos{\\left(\\phi \\right)}\\\\- \\sin{\\left(\\theta \\right)} & \\sin{\\left(\\phi \\right)} \\cos{\\left(\\theta \\right)} & \\cos{\\left(\\phi \\right)} \\cos{\\left(\\theta \\right)}\\end{matrix}\\right]$",
      "text/plain": "Matrix([\n[cos(psi)*cos(theta), sin(phi)*sin(theta)*cos(psi) - sin(psi)*cos(phi),  sin(phi)*sin(psi) + sin(theta)*cos(phi)*cos(psi)],\n[sin(psi)*cos(theta), sin(phi)*sin(psi)*sin(theta) + cos(phi)*cos(psi), -sin(phi)*cos(psi) + sin(psi)*sin(theta)*cos(phi)],\n[        -sin(theta),                              sin(phi)*cos(theta),                               cos(phi)*cos(theta)]])"
     },
     "execution_count": 105,
     "metadata": {},
     "output_type": "execute_result"
    }
   ],
   "source": [
    "# Rotate around the X-axis\n",
    "Rx = Matrix([[1, 0, 0], [0, cos(phi), -1*sin(phi)], [0, sin(phi), cos(phi)]])\n",
    "\n",
    "# Rotate around the Y-axis\n",
    "Ry = Matrix([[cos(theta), 0, sin(theta)], [0, 1, 0], [-1*sin(theta), 0, cos(theta)]])\n",
    "\n",
    "# Rotate around the Z-axis\n",
    "Rz = Matrix([[cos(psi), -1*sin(psi), 0], [sin(psi), cos(psi), 0], [0, 0, 1]])\n",
    "\n",
    "# Rotation matrix from the body frame to the inertial frame\n",
    "R = Rz*Ry*Rx\n",
    "R \n"
   ]
  },
  {
   "cell_type": "markdown",
   "metadata": {},
   "source": [
    "### Transformation Matrix for Angular Velocity"
   ]
  },
  {
   "cell_type": "code",
   "execution_count": 106,
   "metadata": {},
   "outputs": [
    {
     "data": {
      "text/latex": "$\\displaystyle \\left[\\begin{matrix}dPhi - dPsi \\sin{\\left(\\theta \\right)}\\\\dPsi \\sin{\\left(\\phi \\right)} \\cos{\\left(\\theta \\right)} + dTheta \\cos{\\left(\\phi \\right)}\\\\dPsi \\cos{\\left(\\phi \\right)} \\cos{\\left(\\theta \\right)} - dTheta \\sin{\\left(\\phi \\right)}\\end{matrix}\\right]$",
      "text/plain": "Matrix([\n[                    dPhi - dPsi*sin(theta)],\n[dPsi*sin(phi)*cos(theta) + dTheta*cos(phi)],\n[dPsi*cos(phi)*cos(theta) - dTheta*sin(phi)]])"
     },
     "execution_count": 106,
     "metadata": {},
     "output_type": "execute_result"
    }
   ],
   "source": [
    "# Inertial frame to body frame\n",
    "dEta = Matrix([[1, sin(phi)*tan(theta), cos(phi)*tan(theta)], [0, cos(phi), -1*sin(phi)], [0, sin(phi)/cos(theta), cos(phi)/cos(theta)]]) * Matrix([p, q, r])\n",
    "V = Matrix([[1, 0, -1*sin(theta)], [0, cos(phi), cos(theta)*sin(phi)], [0, -1*sin(phi), cos(theta)*cos(phi)]])*Matrix([dPhi, dTheta, dPsi])\n"
   ]
  },
  {
   "cell_type": "code",
   "execution_count": 107,
   "metadata": {},
   "outputs": [
    {
     "name": "stdout",
     "output_type": "stream",
     "text": [
      "theta\n",
      "Matrix([[1, 0, 0], [0, cos(phi), -sin(phi)], [0, sin(phi), cos(phi)]])\n"
     ]
    },
    {
     "data": {
      "text/latex": "$\\displaystyle \\left[\\begin{matrix}1 & 0 & 0\\\\0 & \\cos{\\left(\\phi \\right)} & - \\sin{\\left(\\phi \\right)}\\\\0 & \\sin{\\left(\\phi \\right)} & \\cos{\\left(\\phi \\right)}\\end{matrix}\\right]$",
      "text/plain": "Matrix([\n[1,        0,         0],\n[0, cos(phi), -sin(phi)],\n[0, sin(phi),  cos(phi)]])"
     },
     "execution_count": 107,
     "metadata": {},
     "output_type": "execute_result"
    }
   ],
   "source": [
    "print(theta)\n",
    "print(Rx)\n",
    "Rx"
   ]
  },
  {
   "cell_type": "code",
   "execution_count": null,
   "metadata": {},
   "outputs": [],
   "source": []
  }
 ],
 "metadata": {
  "kernelspec": {
   "display_name": "Python 3",
   "language": "python",
   "name": "python3"
  },
  "language_info": {
   "codemirror_mode": {
    "name": "ipython",
    "version": 3
   },
   "file_extension": ".py",
   "mimetype": "text/x-python",
   "name": "python",
   "nbconvert_exporter": "python",
   "pygments_lexer": "ipython3",
   "version": "3.8.3"
  }
 },
 "nbformat": 4,
 "nbformat_minor": 4
}